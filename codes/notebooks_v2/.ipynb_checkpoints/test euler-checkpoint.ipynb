{
 "cells": [
  {
   "cell_type": "code",
   "execution_count": 1,
   "metadata": {
    "collapsed": true
   },
   "outputs": [],
   "source": [
    "import healpy as h\n",
    "import sys  ; sys.path.append(\"../../codes/\")\n",
    "#from modules import calc_spinylm as sylm\n",
    "#from modules import local_eb_kernel as rko\n",
    "from modules_v2 import euler as euler\n",
    "from modules_v1 import aliasing_correction as ac"
   ]
  },
  {
   "cell_type": "code",
   "execution_count": 2,
   "metadata": {
    "collapsed": false
   },
   "outputs": [],
   "source": [
    "a1,b1,g1,s1=euler.return_euler_angles(8,0)\n",
    "a2,b2,g2,s2=euler.return_euler_angles(8,0)"
   ]
  },
  {
   "cell_type": "code",
   "execution_count": null,
   "metadata": {
    "collapsed": true
   },
   "outputs": [],
   "source": []
  }
 ],
 "metadata": {
  "kernelspec": {
   "display_name": "Python 2",
   "language": "python",
   "name": "python2"
  },
  "language_info": {
   "codemirror_mode": {
    "name": "ipython",
    "version": 2
   },
   "file_extension": ".py",
   "mimetype": "text/x-python",
   "name": "python",
   "nbconvert_exporter": "python",
   "pygments_lexer": "ipython2",
   "version": "2.7.13"
  }
 },
 "nbformat": 4,
 "nbformat_minor": 2
}
