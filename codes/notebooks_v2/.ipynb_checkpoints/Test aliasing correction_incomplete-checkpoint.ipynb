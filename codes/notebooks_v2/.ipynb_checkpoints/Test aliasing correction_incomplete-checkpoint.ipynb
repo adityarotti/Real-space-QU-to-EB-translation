{
 "cells": [
  {
   "cell_type": "code",
   "execution_count": null,
   "metadata": {
    "collapsed": true
   },
   "outputs": [],
   "source": [
    "import healpy as h\n",
    "import sys  ; sys.path.append(\"../../codes/\")\n",
    "from modules_v2 import euler as euler\n",
    "from modules_v2 import rs_rad_ker as rk\n",
    "from modules_v2 import convert_qu2_equ_bqu as qeq\n",
    "from modules_v2 import aliasing_correction as ac\n",
    "\n",
    "%pylab notebook\n",
    "import time"
   ]
  }
 ],
 "metadata": {
  "kernelspec": {
   "display_name": "Python 2",
   "language": "python",
   "name": "python2"
  },
  "language_info": {
   "codemirror_mode": {
    "name": "ipython",
    "version": 2
   },
   "file_extension": ".py",
   "mimetype": "text/x-python",
   "name": "python",
   "nbconvert_exporter": "python",
   "pygments_lexer": "ipython2",
   "version": "2.7.13"
  }
 },
 "nbformat": 4,
 "nbformat_minor": 2
}
