{
 "metadata": {
  "name": "",
  "signature": "sha256:51ec8774cc4acbf165e88d21402152385ecec0b7a87a17b0dbe105f0d6fbe9eb"
 },
 "nbformat": 3,
 "nbformat_minor": 0,
 "worksheets": []
}